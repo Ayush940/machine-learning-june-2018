{
 "cells": [
  {
   "cell_type": "code",
   "execution_count": 2,
   "metadata": {},
   "outputs": [],
   "source": [
    "import numpy as np\n",
    "import matplotlib.pyplot as plt\n",
    "%matplotlib inline\n",
    "import pandas as pd\n",
    "import keras\n",
    "from keras.layers import Input, Dense, Activation\n",
    "from keras.models import Model"
   ]
  },
  {
   "cell_type": "code",
   "execution_count": 3,
   "metadata": {},
   "outputs": [],
   "source": [
    "ds = pd.read_csv('/Users/ayush/Downloads/all/train.csv')"
   ]
  },
  {
   "cell_type": "code",
   "execution_count": 5,
   "metadata": {},
   "outputs": [
    {
     "name": "stdout",
     "output_type": "stream",
     "text": [
      "(8000, 784)\n"
     ]
    }
   ],
   "source": [
    "data = ds.values[:8000, 1:]\n",
    "print data.shape"
   ]
  },
  {
   "cell_type": "code",
   "execution_count": 11,
   "metadata": {},
   "outputs": [
    {
     "name": "stdout",
     "output_type": "stream",
     "text": [
      "_________________________________________________________________\n",
      "Layer (type)                 Output Shape              Param #   \n",
      "=================================================================\n",
      "input_3 (InputLayer)         (None, 784)               0         \n",
      "_________________________________________________________________\n",
      "dense_5 (Dense)              (None, 100)               78500     \n",
      "_________________________________________________________________\n",
      "activation_5 (Activation)    (None, 100)               0         \n",
      "_________________________________________________________________\n",
      "dense_6 (Dense)              (None, 784)               79184     \n",
      "_________________________________________________________________\n",
      "activation_6 (Activation)    (None, 784)               0         \n",
      "=================================================================\n",
      "Total params: 157,684\n",
      "Trainable params: 157,684\n",
      "Non-trainable params: 0\n",
      "_________________________________________________________________\n"
     ]
    }
   ],
   "source": [
    "inp = Input(shape=(784,))\n",
    "\n",
    "h1 = Dense(100)\n",
    "a1 = Activation('sigmoid')\n",
    "## Vector of length 100\n",
    "h2 = Dense(784)\n",
    "a2 = Activation('sigmoid')\n",
    "## Vector of length 784\n",
    "\n",
    "out = a2(h2(a1(h1(inp))))\n",
    "\n",
    "model = Model(inputs=[inp], outputs=[out])\n",
    "model.summary()"
   ]
  },
  {
   "cell_type": "code",
   "execution_count": 16,
   "metadata": {},
   "outputs": [],
   "source": [
    "model.compile(loss='MSE', optimizer='adam')"
   ]
  },
  {
   "cell_type": "code",
   "execution_count": 17,
   "metadata": {},
   "outputs": [
    {
     "name": "stdout",
     "output_type": "stream",
     "text": [
      "(6400, 784) (6400, 784)\n",
      "(1600, 784) (1600, 784)\n"
     ]
    }
   ],
   "source": [
    "split = int(0.8*data.shape[0])\n",
    "X_train = data[:split]/255.0\n",
    "Y_train = data[:split]/255.0\n",
    "\n",
    "X_test = data[split:]/255.0\n",
    "Y_test = data[split:]/255.0\n",
    "\n",
    "print X_train.shape, Y_train.shape\n",
    "print X_test.shape, Y_test.shape"
   ]
  },
  {
   "cell_type": "code",
   "execution_count": 18,
   "metadata": {},
   "outputs": [
    {
     "name": "stdout",
     "output_type": "stream",
     "text": [
      "Train on 6400 samples, validate on 1600 samples\n",
      "Epoch 1/60\n",
      "6400/6400 [==============================] - 1s 206us/step - loss: 0.0024 - val_loss: 0.0036\n",
      "Epoch 2/60\n",
      "6400/6400 [==============================] - 1s 216us/step - loss: 0.0024 - val_loss: 0.0036\n",
      "Epoch 3/60\n",
      "6400/6400 [==============================] - 1s 204us/step - loss: 0.0024 - val_loss: 0.0036\n",
      "Epoch 4/60\n",
      "6400/6400 [==============================] - 1s 207us/step - loss: 0.0024 - val_loss: 0.0036\n",
      "Epoch 5/60\n",
      "6400/6400 [==============================] - 1s 202us/step - loss: 0.0024 - val_loss: 0.0035\n",
      "Epoch 6/60\n",
      "6400/6400 [==============================] - 1s 205us/step - loss: 0.0024 - val_loss: 0.0035\n",
      "Epoch 7/60\n",
      "6400/6400 [==============================] - 1s 204us/step - loss: 0.0024 - val_loss: 0.0035\n",
      "Epoch 8/60\n",
      "6400/6400 [==============================] - 1s 209us/step - loss: 0.0023 - val_loss: 0.0036\n",
      "Epoch 9/60\n",
      "6400/6400 [==============================] - 1s 210us/step - loss: 0.0023 - val_loss: 0.0035\n",
      "Epoch 10/60\n",
      "6400/6400 [==============================] - 1s 205us/step - loss: 0.0023 - val_loss: 0.0035\n",
      "Epoch 11/60\n",
      "6400/6400 [==============================] - 1s 209us/step - loss: 0.0023 - val_loss: 0.0035\n",
      "Epoch 12/60\n",
      "6400/6400 [==============================] - 1s 205us/step - loss: 0.0023 - val_loss: 0.0036\n",
      "Epoch 13/60\n",
      "6400/6400 [==============================] - 1s 206us/step - loss: 0.0023 - val_loss: 0.0035\n",
      "Epoch 14/60\n",
      "6400/6400 [==============================] - 1s 209us/step - loss: 0.0023 - val_loss: 0.0035\n",
      "Epoch 15/60\n",
      "6400/6400 [==============================] - 1s 205us/step - loss: 0.0023 - val_loss: 0.0035\n",
      "Epoch 16/60\n",
      "6400/6400 [==============================] - 1s 213us/step - loss: 0.0023 - val_loss: 0.0034\n",
      "Epoch 17/60\n",
      "6400/6400 [==============================] - 1s 202us/step - loss: 0.0022 - val_loss: 0.0034\n",
      "Epoch 18/60\n",
      "6400/6400 [==============================] - 1s 202us/step - loss: 0.0022 - val_loss: 0.0034\n",
      "Epoch 19/60\n",
      "6400/6400 [==============================] - 1s 210us/step - loss: 0.0022 - val_loss: 0.0035\n",
      "Epoch 20/60\n",
      "6400/6400 [==============================] - 1s 206us/step - loss: 0.0022 - val_loss: 0.0034\n",
      "Epoch 21/60\n",
      "6400/6400 [==============================] - 1s 204us/step - loss: 0.0022 - val_loss: 0.0035\n",
      "Epoch 22/60\n",
      "6400/6400 [==============================] - 1s 204us/step - loss: 0.0022 - val_loss: 0.0034\n",
      "Epoch 23/60\n",
      "6400/6400 [==============================] - 1s 207us/step - loss: 0.0022 - val_loss: 0.0034\n",
      "Epoch 24/60\n",
      "6400/6400 [==============================] - 1s 211us/step - loss: 0.0022 - val_loss: 0.0034\n",
      "Epoch 25/60\n",
      "6400/6400 [==============================] - 1s 208us/step - loss: 0.0022 - val_loss: 0.0034\n",
      "Epoch 26/60\n",
      "6400/6400 [==============================] - 1s 206us/step - loss: 0.0022 - val_loss: 0.0034\n",
      "Epoch 27/60\n",
      "6400/6400 [==============================] - 1s 204us/step - loss: 0.0022 - val_loss: 0.0034\n",
      "Epoch 28/60\n",
      "6400/6400 [==============================] - 1s 212us/step - loss: 0.0022 - val_loss: 0.0034\n",
      "Epoch 29/60\n",
      "6400/6400 [==============================] - 1s 209us/step - loss: 0.0022 - val_loss: 0.0034\n",
      "Epoch 30/60\n",
      "6400/6400 [==============================] - 1s 210us/step - loss: 0.0021 - val_loss: 0.0034\n",
      "Epoch 31/60\n",
      "6400/6400 [==============================] - 1s 212us/step - loss: 0.0021 - val_loss: 0.0034\n",
      "Epoch 32/60\n",
      "6400/6400 [==============================] - 1s 202us/step - loss: 0.0021 - val_loss: 0.0034\n",
      "Epoch 33/60\n",
      "6400/6400 [==============================] - 1s 206us/step - loss: 0.0021 - val_loss: 0.0034\n",
      "Epoch 34/60\n",
      "6400/6400 [==============================] - 1s 208us/step - loss: 0.0021 - val_loss: 0.0034\n",
      "Epoch 35/60\n",
      "6400/6400 [==============================] - 1s 208us/step - loss: 0.0021 - val_loss: 0.0034\n",
      "Epoch 36/60\n",
      "6400/6400 [==============================] - 1s 201us/step - loss: 0.0021 - val_loss: 0.0034\n",
      "Epoch 37/60\n",
      "6400/6400 [==============================] - 1s 211us/step - loss: 0.0021 - val_loss: 0.0034\n",
      "Epoch 38/60\n",
      "6400/6400 [==============================] - 1s 205us/step - loss: 0.0021 - val_loss: 0.0034\n",
      "Epoch 39/60\n",
      "6400/6400 [==============================] - 1s 205us/step - loss: 0.0021 - val_loss: 0.0033\n",
      "Epoch 40/60\n",
      "6400/6400 [==============================] - 1s 208us/step - loss: 0.0021 - val_loss: 0.0034\n",
      "Epoch 41/60\n",
      "6400/6400 [==============================] - 1s 209us/step - loss: 0.0021 - val_loss: 0.0034\n",
      "Epoch 42/60\n",
      "6400/6400 [==============================] - 1s 213us/step - loss: 0.0021 - val_loss: 0.0033\n",
      "Epoch 43/60\n",
      "6400/6400 [==============================] - 1s 208us/step - loss: 0.0021 - val_loss: 0.0033\n",
      "Epoch 44/60\n",
      "6400/6400 [==============================] - 1s 205us/step - loss: 0.0021 - val_loss: 0.0034\n",
      "Epoch 45/60\n",
      "6400/6400 [==============================] - 1s 203us/step - loss: 0.0021 - val_loss: 0.0033\n",
      "Epoch 46/60\n",
      "6400/6400 [==============================] - 1s 212us/step - loss: 0.0021 - val_loss: 0.0033\n",
      "Epoch 47/60\n",
      "6400/6400 [==============================] - 1s 213us/step - loss: 0.0021 - val_loss: 0.0033\n",
      "Epoch 48/60\n",
      "6400/6400 [==============================] - 1s 218us/step - loss: 0.0021 - val_loss: 0.0033\n",
      "Epoch 49/60\n",
      "6400/6400 [==============================] - 1s 214us/step - loss: 0.0020 - val_loss: 0.0033\n",
      "Epoch 50/60\n",
      "6400/6400 [==============================] - 1s 209us/step - loss: 0.0020 - val_loss: 0.0034\n",
      "Epoch 51/60\n",
      "6400/6400 [==============================] - 1s 204us/step - loss: 0.0020 - val_loss: 0.0033\n",
      "Epoch 52/60\n",
      "6400/6400 [==============================] - 1s 218us/step - loss: 0.0020 - val_loss: 0.0033\n",
      "Epoch 53/60\n",
      "6400/6400 [==============================] - 1s 207us/step - loss: 0.0020 - val_loss: 0.0033\n",
      "Epoch 54/60\n",
      "6400/6400 [==============================] - 1s 206us/step - loss: 0.0020 - val_loss: 0.0033\n",
      "Epoch 55/60\n",
      "6400/6400 [==============================] - 1s 208us/step - loss: 0.0020 - val_loss: 0.0033\n",
      "Epoch 56/60\n",
      "6400/6400 [==============================] - 1s 209us/step - loss: 0.0020 - val_loss: 0.0033\n",
      "Epoch 57/60\n",
      "6400/6400 [==============================] - 1s 203us/step - loss: 0.0020 - val_loss: 0.0033\n",
      "Epoch 58/60\n",
      "6400/6400 [==============================] - 1s 208us/step - loss: 0.0020 - val_loss: 0.0033\n",
      "Epoch 59/60\n",
      "6400/6400 [==============================] - 1s 211us/step - loss: 0.0020 - val_loss: 0.0033\n",
      "Epoch 60/60\n",
      "6400/6400 [==============================] - 1s 217us/step - loss: 0.0020 - val_loss: 0.0033\n"
     ]
    },
    {
     "data": {
      "text/plain": [
       "<keras.callbacks.History at 0x1132f5710>"
      ]
     },
     "execution_count": 18,
     "metadata": {},
     "output_type": "execute_result"
    }
   ],
   "source": [
    "model.fit(X_train, Y_train, batch_size=8, epochs=60, validation_data=[X_test, Y_test])"
   ]
  },
  {
   "cell_type": "code",
   "execution_count": 19,
   "metadata": {},
   "outputs": [
    {
     "name": "stdout",
     "output_type": "stream",
     "text": [
      "_________________________________________________________________\n",
      "Layer (type)                 Output Shape              Param #   \n",
      "=================================================================\n",
      "input_4 (InputLayer)         (None, 784)               0         \n",
      "_________________________________________________________________\n",
      "dense_5 (Dense)              (None, 100)               78500     \n",
      "_________________________________________________________________\n",
      "activation_5 (Activation)    (None, 100)               0         \n",
      "=================================================================\n",
      "Total params: 78,500\n",
      "Trainable params: 78,500\n",
      "Non-trainable params: 0\n",
      "_________________________________________________________________\n"
     ]
    }
   ],
   "source": [
    "## Encoder Model\n",
    "inp = Input(shape=(784,))\n",
    "enc_out = a1(h1(inp))\n",
    "encoder = Model(inputs=[inp], outputs=[enc_out])\n",
    "\n",
    "encoder.summary()"
   ]
  },
  {
   "cell_type": "code",
   "execution_count": 20,
   "metadata": {},
   "outputs": [
    {
     "name": "stdout",
     "output_type": "stream",
     "text": [
      "_________________________________________________________________\n",
      "Layer (type)                 Output Shape              Param #   \n",
      "=================================================================\n",
      "input_5 (InputLayer)         (None, 100)               0         \n",
      "_________________________________________________________________\n",
      "dense_6 (Dense)              (None, 784)               79184     \n",
      "_________________________________________________________________\n",
      "activation_6 (Activation)    (None, 784)               0         \n",
      "=================================================================\n",
      "Total params: 79,184\n",
      "Trainable params: 79,184\n",
      "Non-trainable params: 0\n",
      "_________________________________________________________________\n"
     ]
    }
   ],
   "source": [
    "## Decoder Model\n",
    "dec_inp = Input(shape=(100,))\n",
    "dec_out = a2(h2(dec_inp))\n",
    "\n",
    "decoder = Model(inputs=[dec_inp], outputs=[dec_out])\n",
    "\n",
    "decoder.summary()"
   ]
  },
  {
   "cell_type": "code",
   "execution_count": 21,
   "metadata": {},
   "outputs": [
    {
     "name": "stdout",
     "output_type": "stream",
     "text": [
      "(1000, 784)\n",
      "(1000, 100)\n"
     ]
    }
   ],
   "source": [
    "img_batch = data[7000:8000]/255.0\n",
    "print img_batch.shape\n",
    "ex = encoder.predict(img_batch)\n",
    "print ex.shape"
   ]
  },
  {
   "cell_type": "code",
   "execution_count": 22,
   "metadata": {},
   "outputs": [
    {
     "name": "stdout",
     "output_type": "stream",
     "text": [
      "(1000, 784)\n"
     ]
    }
   ],
   "source": [
    "dx = decoder.predict(ex)\n",
    "print dx.shape"
   ]
  },
  {
   "cell_type": "code",
   "execution_count": 39,
   "metadata": {},
   "outputs": [
    {
     "name": "stdout",
     "output_type": "stream",
     "text": [
      "7681\n"
     ]
    },
    {
     "data": {
      "image/png": "[encoded data removed]",
      "text/plain": [
       "<Figure size 432x288 with 1 Axes>"
      ]
     },
     "metadata": {},
     "output_type": "display_data"
    },
    {
     "data": {
      "image/png": "[encoded data removed]",
      "text/plain": [
       "<Figure size 432x288 with 1 Axes>"
      ]
     },
     "metadata": {},
     "output_type": "display_data"
    }
   ],
   "source": [
    "n = np.random.randint(7005, 7999)\n",
    "print n\n",
    "plt.imshow(data[n].reshape((28, 28)), cmap='gray')\n",
    "plt.show()\n",
    "\n",
    "plt.imshow(dx[n-7000].reshape((28, 28)), cmap='gray')\n",
    "plt.show()"
   ]
  },
  {
   "cell_type": "code",
   "execution_count": null,
   "metadata": {},
   "outputs": [],
   "source": []
  }
 ],
 "metadata": {
  "kernelspec": {
   "display_name": "Python 2",
   "language": "python",
   "name": "python2"
  },
  "language_info": {
   "codemirror_mode": {
    "name": "ipython",
    "version": 2
   },
   "file_extension": ".py",
   "mimetype": "text/x-python",
   "name": "python",
   "nbconvert_exporter": "python",
   "pygments_lexer": "ipython2",
   "version": "2.7.15"
  }
 },
 "nbformat": 4,
 "nbformat_minor": 2
}
