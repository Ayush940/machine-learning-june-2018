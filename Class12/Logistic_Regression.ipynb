{
 "cells": [
  {
   "cell_type": "code",
   "execution_count": 1,
   "metadata": {},
   "outputs": [],
   "source": [
    "import numpy as np\n",
    "import matplotlib.pyplot as plt\n",
    "%matplotlib inline"
   ]
  },
  {
   "cell_type": "code",
   "execution_count": 2,
   "metadata": {},
   "outputs": [
    {
     "name": "stdout",
     "output_type": "stream",
     "text": [
      "(500, 2)\n",
      "(500, 2)\n"
     ]
    }
   ],
   "source": [
    "mean_01 = np.array([0.1, 0.2])\n",
    "mean_02 = np.array([5.1, 5.2])\n",
    "\n",
    "cov_01 = np.array([[1.0, 0.2],[0.2, 1.1]])\n",
    "cov_02 = np.array([[1.0, 0.3],[0.3, 1.1]])\n",
    "\n",
    "dist_01 = np.random.multivariate_normal(mean_01, cov_01, 500)\n",
    "dist_02 = np.random.multivariate_normal(mean_02, cov_02, 500)\n",
    "\n",
    "print dist_01.shape\n",
    "print dist_02.shape"
   ]
  },
  {
   "cell_type": "code",
   "execution_count": 4,
   "metadata": {},
   "outputs": [
    {
     "data": {
      "image/png": "[encoded data removed]",
      "text/plain": [
       "<Figure size 432x288 with 1 Axes>"
      ]
     },
     "metadata": {},
     "output_type": "display_data"
    }
   ],
   "source": [
    "plt.scatter(dist_01[:, 0], dist_01[:, 1], c='r')\n",
    "plt.scatter(dist_02[:, 0], dist_02[:, 1], c='b')\n",
    "\n",
    "plt.show()"
   ]
  },
  {
   "cell_type": "code",
   "execution_count": 5,
   "metadata": {},
   "outputs": [
    {
     "name": "stdout",
     "output_type": "stream",
     "text": [
      "(1000, 3)\n"
     ]
    }
   ],
   "source": [
    "## Total Dataset\n",
    "rows = dist_01.shape[0] + dist_02.shape[0]\n",
    "cols = dist_01.shape[1] + 1\n",
    "\n",
    "data = np.zeros((rows, cols))\n",
    "print data.shape\n",
    "\n",
    "data[:dist_01.shape[0], :dist_01.shape[1]] = dist_01\n",
    "data[dist_01.shape[0]: rows, :dist_01.shape[1]] = dist_02\n",
    "data[dist_01.shape[0]: rows, -1] = 1.0"
   ]
  },
  {
   "cell_type": "code",
   "execution_count": 6,
   "metadata": {},
   "outputs": [
    {
     "data": {
      "text/plain": [
       "array([[ 5.66439671,  4.62852556,  1.        ],\n",
       "       [-0.1568496 , -0.4649825 ,  0.        ],\n",
       "       [ 7.33074985,  4.64441204,  1.        ],\n",
       "       [ 7.81521241,  4.64214482,  1.        ],\n",
       "       [ 4.61585223,  5.19710382,  1.        ],\n",
       "       [ 6.48994144,  5.08105473,  1.        ],\n",
       "       [ 1.3160573 , -0.40036468,  0.        ],\n",
       "       [ 6.63428281,  4.99263149,  1.        ],\n",
       "       [ 4.74395791,  5.14668209,  1.        ],\n",
       "       [ 6.3222439 ,  4.58833716,  1.        ]])"
      ]
     },
     "execution_count": 6,
     "metadata": {},
     "output_type": "execute_result"
    }
   ],
   "source": [
    "np.random.shuffle(data)\n",
    "\n",
    "data[:10]"
   ]
  },
  {
   "cell_type": "code",
   "execution_count": 7,
   "metadata": {},
   "outputs": [
    {
     "name": "stdout",
     "output_type": "stream",
     "text": [
      "(750, 2)\n",
      "(250, 2)\n",
      "(750,)\n",
      "(250,)\n"
     ]
    }
   ],
   "source": [
    "## Data Splitting\n",
    "split = int(0.75*data.shape[0])\n",
    "X_train = data[:split, :-1]\n",
    "Y_train = data[:split, -1]\n",
    "\n",
    "X_test = data[split:, :-1]\n",
    "Y_test = data[split:, -1]\n",
    "\n",
    "print X_train.shape\n",
    "print X_test.shape\n",
    "print Y_train.shape\n",
    "print Y_test.shape"
   ]
  },
  {
   "cell_type": "code",
   "execution_count": 18,
   "metadata": {},
   "outputs": [],
   "source": [
    "'''Functions'''\n",
    "def sigmoid(z):\n",
    "    sig = 1.0/(1 + np.exp(-1*z))\n",
    "    return sig\n",
    "\n",
    "def hypothesis(x_sample, w, b):\n",
    "    h = (x_sample*w).sum() + b\n",
    "    return sigmoid(h)\n",
    "    \n",
    "def get_error(x, w, y_true, b):\n",
    "    err = 0.0\n",
    "    m = x.shape[0]\n",
    "    \n",
    "    for ix in range(m):\n",
    "        if y_true[ix] == 0:\n",
    "            add_term = -1*(np.log(1 - hypothesis(x[ix], w, b)))\n",
    "            err += add_term\n",
    "        else:\n",
    "            add_term = -1*(np.log(hypothesis(x[ix], w, b)))\n",
    "            err += add_term\n",
    "    \n",
    "    err = err/m\n",
    "    return err"
   ]
  },
  {
   "cell_type": "code",
   "execution_count": 24,
   "metadata": {},
   "outputs": [],
   "source": [
    "def get_gradients(x, w, y_true, b):\n",
    "    \n",
    "    grad_w = np.zeros(w.shape[0])\n",
    "    grad_b = 0\n",
    "    \n",
    "    m = x.shape[0]\n",
    "    for ix in range(m):\n",
    "        grad_w += (hypothesis(x[ix], w, b) - y_true[ix])*(x[ix])\n",
    "        grad_b += (hypothesis(x[ix], w, b) - y_true[ix])*(1)\n",
    "    \n",
    "    return [grad_w, grad_b]"
   ]
  },
  {
   "cell_type": "code",
   "execution_count": 25,
   "metadata": {},
   "outputs": [],
   "source": [
    "def optimizer(x, w, y_true, b, learning_rate=0.001):\n",
    "    error = get_error(x, w, y_true, b)\n",
    "    \n",
    "    [grad_w, grad_b] = get_gradients(x, w, y_true, b)\n",
    "    \n",
    "    b = b - learning_rate*grad_b\n",
    "    w = w - learning_rate*grad_w\n",
    "    \n",
    "    return error, w, b"
   ]
  },
  {
   "cell_type": "code",
   "execution_count": 26,
   "metadata": {},
   "outputs": [],
   "source": [
    "def Logistic_Regression(X_train, Y_train, nb_epochs=200, learning_rate=0.0001):\n",
    "    \n",
    "    loss = []\n",
    "    \n",
    "    ## Parameter Initialisation\n",
    "    W = np.array([0.3, 0.2])\n",
    "    b = 3.6\n",
    "    \n",
    "    for ix in range(nb_epochs):\n",
    "        error, W, b = optimizer(X_train, W, Y_train, b, learning_rate)\n",
    "        loss.append(error)\n",
    "        \n",
    "    W_final = W\n",
    "    b_final = b\n",
    "    \n",
    "    return loss, W_final, b_final"
   ]
  },
  {
   "cell_type": "code",
   "execution_count": 27,
   "metadata": {},
   "outputs": [],
   "source": [
    "loss_logs, W_final, b_final = Logistic_Regression(X_train, Y_train)"
   ]
  },
  {
   "cell_type": "code",
   "execution_count": 28,
   "metadata": {},
   "outputs": [
    {
     "data": {
      "image/png": "[encoded data removed]",
      "text/plain": [
       "<Figure size 432x288 with 1 Axes>"
      ]
     },
     "metadata": {},
     "output_type": "display_data"
    }
   ],
   "source": [
    "plt.plot(loss_logs)\n",
    "plt.show()"
   ]
  },
  {
   "cell_type": "code",
   "execution_count": 30,
   "metadata": {},
   "outputs": [
    {
     "name": "stdout",
     "output_type": "stream",
     "text": [
      "[0.62985848 0.23207193]\n",
      "-0.9538506814121874\n"
     ]
    }
   ],
   "source": [
    "print W_final\n",
    "print b_final"
   ]
  },
  {
   "cell_type": "code",
   "execution_count": 33,
   "metadata": {},
   "outputs": [
    {
     "ename": "TypeError",
     "evalue": "unsupported operand type(s) for &: 'float' and 'float'",
     "output_type": "error",
     "traceback": [
      "\u001b[0;31m---------------------------------------------------------------------------\u001b[0m",
      "\u001b[0;31mTypeError\u001b[0m                                 Traceback (most recent call last)",
      "\u001b[0;32m<ipython-input-33-573dd1fc0ba2>\u001b[0m in \u001b[0;36m<module>\u001b[0;34m()\u001b[0m\n\u001b[1;32m      1\u001b[0m \u001b[0ma\u001b[0m \u001b[0;34m=\u001b[0m \u001b[0;36m1.5\u001b[0m\u001b[0;34m\u001b[0m\u001b[0m\n\u001b[1;32m      2\u001b[0m \u001b[0mb\u001b[0m \u001b[0;34m=\u001b[0m \u001b[0;36m1.5\u001b[0m\u001b[0;34m\u001b[0m\u001b[0m\n\u001b[0;32m----> 3\u001b[0;31m \u001b[0;32mprint\u001b[0m \u001b[0ma\u001b[0m \u001b[0;34m&\u001b[0m \u001b[0mb\u001b[0m\u001b[0;34m\u001b[0m\u001b[0m\n\u001b[0m",
      "\u001b[0;31mTypeError\u001b[0m: unsupported operand type(s) for &: 'float' and 'float'"
     ]
    }
   ],
   "source": [
    "a = 1.5\n",
    "b = 1.5\n",
    "print a & b"
   ]
  },
  {
   "cell_type": "code",
   "execution_count": null,
   "metadata": {},
   "outputs": [],
   "source": []
  }
 ],
 "metadata": {
  "kernelspec": {
   "display_name": "Python 2",
   "language": "python",
   "name": "python2"
  },
  "language_info": {
   "codemirror_mode": {
    "name": "ipython",
    "version": 2
   },
   "file_extension": ".py",
   "mimetype": "text/x-python",
   "name": "python",
   "nbconvert_exporter": "python",
   "pygments_lexer": "ipython2",
   "version": "2.7.15"
  }
 },
 "nbformat": 4,
 "nbformat_minor": 2
}
