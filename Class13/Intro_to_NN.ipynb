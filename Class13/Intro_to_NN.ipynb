{
 "cells": [
  {
   "cell_type": "code",
   "execution_count": 1,
   "metadata": {},
   "outputs": [],
   "source": [
    "import numpy as np\n",
    "import matplotlib.pyplot as plt\n",
    "%matplotlib inline\n",
    "from sklearn.datasets import make_circles\n",
    "from keras.layers import Dense, Activation\n",
    "from keras.models import Sequential\n",
    "from keras.utils import np_utils"
   ]
  },
  {
   "cell_type": "code",
   "execution_count": 2,
   "metadata": {},
   "outputs": [],
   "source": [
    "X, y = make_circles(n_samples=1000, factor=0.4)"
   ]
  },
  {
   "cell_type": "code",
   "execution_count": 3,
   "metadata": {},
   "outputs": [
    {
     "name": "stdout",
     "output_type": "stream",
     "text": [
      "(1000, 2) (1000,)\n"
     ]
    }
   ],
   "source": [
    "print X.shape, y.shape"
   ]
  },
  {
   "cell_type": "code",
   "execution_count": 4,
   "metadata": {},
   "outputs": [
    {
     "data": {
      "image/png": "[encoded data removed]",
      "text/plain": [
       "<Figure size 432x288 with 1 Axes>"
      ]
     },
     "metadata": {},
     "output_type": "display_data"
    }
   ],
   "source": [
    "for ix in range(X.shape[0]):\n",
    "    if y[ix] == 0:\n",
    "        plt.scatter(X[ix, 0], X[ix, 1], c='r')\n",
    "    else:\n",
    "        plt.scatter(X[ix, 0], X[ix, 1], c='b')\n",
    "        \n",
    "plt.show()"
   ]
  },
  {
   "cell_type": "code",
   "execution_count": 7,
   "metadata": {},
   "outputs": [
    {
     "name": "stdout",
     "output_type": "stream",
     "text": [
      "(700,)\n",
      "(300,)\n"
     ]
    }
   ],
   "source": [
    "split = int(0.7*X.shape[0])\n",
    "X_train = X[:split]\n",
    "X_test = X[split:]\n",
    "\n",
    "y_train = y[:split]\n",
    "y_test = y[split:]\n",
    "\n",
    "print y_train.shape\n",
    "print y_test.shape"
   ]
  },
  {
   "cell_type": "code",
   "execution_count": 9,
   "metadata": {},
   "outputs": [
    {
     "name": "stdout",
     "output_type": "stream",
     "text": [
      "[0 1]\n"
     ]
    }
   ],
   "source": [
    "print np.unique(y_train)"
   ]
  },
  {
   "cell_type": "code",
   "execution_count": 10,
   "metadata": {},
   "outputs": [
    {
     "name": "stdout",
     "output_type": "stream",
     "text": [
      "(700, 2)\n",
      "(300, 2)\n"
     ]
    }
   ],
   "source": [
    "Y_train = np_utils.to_categorical(y_train)\n",
    "Y_test = np_utils.to_categorical(y_test)\n",
    "print Y_train.shape\n",
    "print Y_test.shape"
   ]
  },
  {
   "cell_type": "code",
   "execution_count": 12,
   "metadata": {},
   "outputs": [
    {
     "name": "stdout",
     "output_type": "stream",
     "text": [
      "0 [1. 0.]\n",
      "0 [1. 0.]\n",
      "0 [1. 0.]\n",
      "1 [0. 1.]\n",
      "1 [0. 1.]\n",
      "0 [1. 0.]\n",
      "0 [1. 0.]\n",
      "0 [1. 0.]\n",
      "0 [1. 0.]\n",
      "0 [1. 0.]\n"
     ]
    }
   ],
   "source": [
    "for ix in range(10):\n",
    "    print y_test[ix], Y_test[ix]"
   ]
  },
  {
   "cell_type": "code",
   "execution_count": 29,
   "metadata": {},
   "outputs": [
    {
     "name": "stdout",
     "output_type": "stream",
     "text": [
      "_________________________________________________________________\n",
      "Layer (type)                 Output Shape              Param #   \n",
      "=================================================================\n",
      "dense_12 (Dense)             (None, 5)                 15        \n",
      "_________________________________________________________________\n",
      "activation_7 (Activation)    (None, 5)                 0         \n",
      "_________________________________________________________________\n",
      "dense_13 (Dense)             (None, 2)                 12        \n",
      "_________________________________________________________________\n",
      "activation_8 (Activation)    (None, 2)                 0         \n",
      "=================================================================\n",
      "Total params: 27\n",
      "Trainable params: 27\n",
      "Non-trainable params: 0\n",
      "_________________________________________________________________\n"
     ]
    }
   ],
   "source": [
    "model = Sequential()\n",
    "# model.add(Dense(2, input_shape=(2,)))\n",
    "# model.add(Activation('relu'))\n",
    "model.add(Dense(5, input_shape=(2,)))\n",
    "model.add(Activation('relu'))\n",
    "model.add(Dense(2))\n",
    "model.add(Activation('softmax'))\n",
    "\n",
    "model.summary()"
   ]
  },
  {
   "cell_type": "code",
   "execution_count": 30,
   "metadata": {},
   "outputs": [],
   "source": [
    "model.compile(optimizer='adam', loss='categorical_crossentropy', metrics=['accuracy'])"
   ]
  },
  {
   "cell_type": "code",
   "execution_count": 31,
   "metadata": {},
   "outputs": [
    {
     "name": "stdout",
     "output_type": "stream",
     "text": [
      "Train on 700 samples, validate on 300 samples\n",
      "Epoch 1/15\n",
      "700/700 [==============================] - 0s 38us/step - loss: 0.6311 - acc: 0.5529 - val_loss: 0.6124 - val_acc: 0.5633\n",
      "Epoch 2/15\n",
      "700/700 [==============================] - 0s 37us/step - loss: 0.6133 - acc: 0.5643 - val_loss: 0.5977 - val_acc: 0.5700\n",
      "Epoch 3/15\n",
      "700/700 [==============================] - 0s 36us/step - loss: 0.5962 - acc: 0.5914 - val_loss: 0.5820 - val_acc: 0.5867\n",
      "Epoch 4/15\n",
      "700/700 [==============================] - 0s 38us/step - loss: 0.5783 - acc: 0.6600 - val_loss: 0.5648 - val_acc: 0.6867\n",
      "Epoch 5/15\n",
      "700/700 [==============================] - 0s 35us/step - loss: 0.5600 - acc: 0.7400 - val_loss: 0.5467 - val_acc: 0.7633\n",
      "Epoch 6/15\n",
      "700/700 [==============================] - 0s 38us/step - loss: 0.5410 - acc: 0.8214 - val_loss: 0.5278 - val_acc: 0.8600\n",
      "Epoch 7/15\n",
      "700/700 [==============================] - 0s 36us/step - loss: 0.5214 - acc: 0.9257 - val_loss: 0.5080 - val_acc: 0.9367\n",
      "Epoch 8/15\n",
      "700/700 [==============================] - 0s 36us/step - loss: 0.5013 - acc: 0.9443 - val_loss: 0.4878 - val_acc: 0.9433\n",
      "Epoch 9/15\n",
      "700/700 [==============================] - 0s 36us/step - loss: 0.4808 - acc: 0.9543 - val_loss: 0.4669 - val_acc: 0.9567\n",
      "Epoch 10/15\n",
      "700/700 [==============================] - 0s 38us/step - loss: 0.4599 - acc: 0.9586 - val_loss: 0.4462 - val_acc: 0.9600\n",
      "Epoch 11/15\n",
      "700/700 [==============================] - 0s 35us/step - loss: 0.4388 - acc: 0.9700 - val_loss: 0.4256 - val_acc: 0.9767\n",
      "Epoch 12/15\n",
      "700/700 [==============================] - 0s 38us/step - loss: 0.4180 - acc: 0.9771 - val_loss: 0.4046 - val_acc: 0.9933\n",
      "Epoch 13/15\n",
      "700/700 [==============================] - 0s 37us/step - loss: 0.3978 - acc: 0.9900 - val_loss: 0.3849 - val_acc: 1.0000\n",
      "Epoch 14/15\n",
      "700/700 [==============================] - 0s 36us/step - loss: 0.3777 - acc: 0.9986 - val_loss: 0.3649 - val_acc: 1.0000\n",
      "Epoch 15/15\n",
      "700/700 [==============================] - 0s 38us/step - loss: 0.3582 - acc: 1.0000 - val_loss: 0.3454 - val_acc: 1.0000\n"
     ]
    },
    {
     "data": {
      "text/plain": [
       "<keras.callbacks.History at 0x10b4a3810>"
      ]
     },
     "execution_count": 31,
     "metadata": {},
     "output_type": "execute_result"
    }
   ],
   "source": [
    "model.fit(X_train, Y_train, batch_size=10, epochs=15, validation_data=[X_test, Y_test])"
   ]
  },
  {
   "cell_type": "code",
   "execution_count": null,
   "metadata": {},
   "outputs": [],
   "source": []
  },
  {
   "cell_type": "code",
   "execution_count": null,
   "metadata": {},
   "outputs": [],
   "source": []
  }
 ],
 "metadata": {
  "kernelspec": {
   "display_name": "Python 2",
   "language": "python",
   "name": "python2"
  },
  "language_info": {
   "codemirror_mode": {
    "name": "ipython",
    "version": 2
   },
   "file_extension": ".py",
   "mimetype": "text/x-python",
   "name": "python",
   "nbconvert_exporter": "python",
   "pygments_lexer": "ipython2",
   "version": "2.7.15"
  }
 },
 "nbformat": 4,
 "nbformat_minor": 2
}
